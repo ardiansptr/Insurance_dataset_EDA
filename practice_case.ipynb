{
 "cells": [
  {
   "cell_type": "markdown",
   "metadata": {},
   "source": [
    "# Muhammad Ardian Saputra   (DS)"
   ]
  },
  {
   "cell_type": "markdown",
   "metadata": {},
   "source": [
    "# 1. Perform basic exploratory data analysis which should include the following and print out your insights at every step:"
   ]
  },
  {
   "cell_type": "markdown",
   "metadata": {},
   "source": [
    "## A. The shape of the data"
   ]
  },
  {
   "cell_type": "code",
   "execution_count": 72,
   "metadata": {},
   "outputs": [],
   "source": [
    "import pandas as pd\n",
    "import numpy as np\n",
    "import matplotlib.pyplot as plt\n",
    "import seaborn as sns\n",
    "import scipy.stats as stats\n",
    "\n",
    "%matplotlib inline"
   ]
  },
  {
   "cell_type": "code",
   "execution_count": 73,
   "metadata": {},
   "outputs": [],
   "source": [
    "df = pd.read_csv('insurance.csv')"
   ]
  },
  {
   "cell_type": "code",
   "execution_count": 74,
   "metadata": {},
   "outputs": [
    {
     "data": {
      "text/plain": [
       "(1338, 7)"
      ]
     },
     "execution_count": 74,
     "metadata": {},
     "output_type": "execute_result"
    }
   ],
   "source": [
    "df.shape"
   ]
  },
  {
   "cell_type": "markdown",
   "metadata": {},
   "source": [
    "The shape of the data is (1338, 7). It means that there are 1338 rows and 7 columns."
   ]
  },
  {
   "cell_type": "markdown",
   "metadata": {},
   "source": [
    "## B. The data type of each attribute"
   ]
  },
  {
   "cell_type": "code",
   "execution_count": 75,
   "metadata": {},
   "outputs": [
    {
     "data": {
      "text/plain": [
       "age           int64\n",
       "sex          object\n",
       "bmi         float64\n",
       "children      int64\n",
       "smoker       object\n",
       "region       object\n",
       "charges     float64\n",
       "dtype: object"
      ]
     },
     "execution_count": 75,
     "metadata": {},
     "output_type": "execute_result"
    }
   ],
   "source": [
    "df.dtypes"
   ]
  },
  {
   "cell_type": "markdown",
   "metadata": {},
   "source": [
    "Age, BMI, Children, Charges column have a numeric data types. Age and Children have an integer data type. BMI and Charges have a floating point data types. Sex, Smoker, and Region have an object data types. Default object data types in data frame is a string."
   ]
  },
  {
   "cell_type": "markdown",
   "metadata": {},
   "source": [
    "## C. Checking the presence of missing values"
   ]
  },
  {
   "cell_type": "code",
   "execution_count": 76,
   "metadata": {},
   "outputs": [
    {
     "data": {
      "text/plain": [
       "age         0\n",
       "sex         0\n",
       "bmi         0\n",
       "children    0\n",
       "smoker      0\n",
       "region      0\n",
       "charges     0\n",
       "dtype: int64"
      ]
     },
     "execution_count": 76,
     "metadata": {},
     "output_type": "execute_result"
    }
   ],
   "source": [
    "df.isnull().sum()"
   ]
  },
  {
   "cell_type": "markdown",
   "metadata": {},
   "source": [
    "We can see that there is no missing value in all columns."
   ]
  },
  {
   "cell_type": "markdown",
   "metadata": {},
   "source": [
    "## D. 5 points summary of numerical attributes"
   ]
  },
  {
   "cell_type": "code",
   "execution_count": 77,
   "metadata": {},
   "outputs": [
    {
     "data": {
      "text/html": [
       "<div>\n",
       "<style scoped>\n",
       "    .dataframe tbody tr th:only-of-type {\n",
       "        vertical-align: middle;\n",
       "    }\n",
       "\n",
       "    .dataframe tbody tr th {\n",
       "        vertical-align: top;\n",
       "    }\n",
       "\n",
       "    .dataframe thead th {\n",
       "        text-align: right;\n",
       "    }\n",
       "</style>\n",
       "<table border=\"1\" class=\"dataframe\">\n",
       "  <thead>\n",
       "    <tr style=\"text-align: right;\">\n",
       "      <th></th>\n",
       "      <th>age</th>\n",
       "      <th>bmi</th>\n",
       "      <th>children</th>\n",
       "      <th>charges</th>\n",
       "    </tr>\n",
       "  </thead>\n",
       "  <tbody>\n",
       "    <tr>\n",
       "      <th>count</th>\n",
       "      <td>1338.000000</td>\n",
       "      <td>1338.000000</td>\n",
       "      <td>1338.000000</td>\n",
       "      <td>1338.000000</td>\n",
       "    </tr>\n",
       "    <tr>\n",
       "      <th>mean</th>\n",
       "      <td>39.207025</td>\n",
       "      <td>30.663397</td>\n",
       "      <td>1.094918</td>\n",
       "      <td>13270.422265</td>\n",
       "    </tr>\n",
       "    <tr>\n",
       "      <th>std</th>\n",
       "      <td>14.049960</td>\n",
       "      <td>6.098187</td>\n",
       "      <td>1.205493</td>\n",
       "      <td>12110.011237</td>\n",
       "    </tr>\n",
       "    <tr>\n",
       "      <th>min</th>\n",
       "      <td>18.000000</td>\n",
       "      <td>15.960000</td>\n",
       "      <td>0.000000</td>\n",
       "      <td>1121.873900</td>\n",
       "    </tr>\n",
       "    <tr>\n",
       "      <th>25%</th>\n",
       "      <td>27.000000</td>\n",
       "      <td>26.296250</td>\n",
       "      <td>0.000000</td>\n",
       "      <td>4740.287150</td>\n",
       "    </tr>\n",
       "    <tr>\n",
       "      <th>50%</th>\n",
       "      <td>39.000000</td>\n",
       "      <td>30.400000</td>\n",
       "      <td>1.000000</td>\n",
       "      <td>9382.033000</td>\n",
       "    </tr>\n",
       "    <tr>\n",
       "      <th>75%</th>\n",
       "      <td>51.000000</td>\n",
       "      <td>34.693750</td>\n",
       "      <td>2.000000</td>\n",
       "      <td>16639.912515</td>\n",
       "    </tr>\n",
       "    <tr>\n",
       "      <th>max</th>\n",
       "      <td>64.000000</td>\n",
       "      <td>53.130000</td>\n",
       "      <td>5.000000</td>\n",
       "      <td>63770.428010</td>\n",
       "    </tr>\n",
       "  </tbody>\n",
       "</table>\n",
       "</div>"
      ],
      "text/plain": [
       "               age          bmi     children       charges\n",
       "count  1338.000000  1338.000000  1338.000000   1338.000000\n",
       "mean     39.207025    30.663397     1.094918  13270.422265\n",
       "std      14.049960     6.098187     1.205493  12110.011237\n",
       "min      18.000000    15.960000     0.000000   1121.873900\n",
       "25%      27.000000    26.296250     0.000000   4740.287150\n",
       "50%      39.000000    30.400000     1.000000   9382.033000\n",
       "75%      51.000000    34.693750     2.000000  16639.912515\n",
       "max      64.000000    53.130000     5.000000  63770.428010"
      ]
     },
     "execution_count": 77,
     "metadata": {},
     "output_type": "execute_result"
    }
   ],
   "source": [
    "df.describe()"
   ]
  },
  {
   "cell_type": "markdown",
   "metadata": {},
   "source": [
    "The five-number summary involves the calculation of 5 summary statistical quantities:\n",
    "   * Median\n",
    "   * 1st Quartile (25th percentile)\n",
    "   * 3nd Quartile (75th percentile)\n",
    "   * Minimum\n",
    "   * Maximum\n",
    "\n",
    "All the value of all the column that have a numeric data type can be seen in the table above.\n",
    "\n",
    "* The age column data looks representative to the adult population.\n",
    "* The BMI data have diverse category from Severe Thinness (<16) to Obese Class III (> 40). The people's average BMI is categorize as Obese Class I (30-35), and only 25% people have a normal or less BMI.\n",
    "* If we see the children data there is only few people have more than 2 children and 75% of the people have 2 or less children. * Lastly the charges is higly skewed, the data gathers on the left side as most people just require basic medical care and only few suffer from cronic diseases that cost more."
   ]
  },
  {
   "cell_type": "markdown",
   "metadata": {},
   "source": [
    "## E. Distribution of 'bmi', 'age' and 'charges' columns"
   ]
  },
  {
   "cell_type": "code",
   "execution_count": 78,
   "metadata": {},
   "outputs": [
    {
     "data": {
      "image/png": "[encoded data removed]",
      "text/plain": [
       "<Figure size 1080x360 with 3 Axes>"
      ]
     },
     "metadata": {
      "needs_background": "light"
     },
     "output_type": "display_data"
    }
   ],
   "source": [
    "fig, ax = plt.subplots(1, 3, figsize=(15,5), constrained_layout=True)\n",
    "sns.distplot(df.bmi, kde=False, color='r', ax=ax[0]);\n",
    "sns.distplot(df.age, kde=False, color='g', ax=ax[1]);\n",
    "sns.distplot(df.charges, kde=False, color='b', ax=ax[2]);\n",
    "fig.suptitle('Distribution of BMI, Age and Charges', fontsize=24);\n",
    "ax[0].set_title('Distribution of BMI');\n",
    "ax[1].set_title('Distribution of Age');\n",
    "ax[2].set_title('Distribution of Charges');\n",
    "ax[0].set_ylabel('Frequency');\n",
    "ax[1].set_ylabel('Frequency');\n",
    "ax[2].set_ylabel('Frequency');"
   ]
  },
  {
   "cell_type": "markdown",
   "metadata": {},
   "source": [
    "* The BMI distribution not have much positive skewness. It is close to normal distribution.\n",
    "* Age seems distributed quiet uniformly\n",
    "* The Charges distribution have a high positive skewness."
   ]
  },
  {
   "cell_type": "markdown",
   "metadata": {},
   "source": [
    "## F. The measure of skewness of 'bmi', 'age', and 'charges' columns"
   ]
  },
  {
   "cell_type": "code",
   "execution_count": 79,
   "metadata": {},
   "outputs": [
    {
     "name": "stdout",
     "output_type": "stream",
     "text": [
      "Skewness of bmi: 0.05567251565299186\n",
      "Skewness of age: 0.2840471105987448\n",
      "Skewness of charges: 1.5158796580240388\n"
     ]
    }
   ],
   "source": [
    "age_skew = df.age.skew()\n",
    "bmi_skew = df.bmi.skew()\n",
    "charges_skew = df.charges.skew()\n",
    "\n",
    "print('Skewness of bmi: {}\\nSkewness of age: {}\\nSkewness of charges: {}'.format(age_skew,bmi_skew,charges_skew))"
   ]
  },
  {
   "cell_type": "markdown",
   "metadata": {},
   "source": [
    "The bmi and charges skewness value is greater than 0. So bmi and charges have positive or right skewness with charges have the most skewness. The age is quite uniformly distributed and there's hardly any skewness."
   ]
  },
  {
   "cell_type": "markdown",
   "metadata": {},
   "source": [
    "## G. Checking the presence of outliers in 'bmi', 'age' and 'charges' columns"
   ]
  },
  {
   "cell_type": "markdown",
   "metadata": {},
   "source": [
    "We can use box plot to see if there is an outliers or not."
   ]
  },
  {
   "cell_type": "code",
   "execution_count": 80,
   "metadata": {
    "scrolled": true
   },
   "outputs": [
    {
     "data": {
      "image/png": "[encoded data removed]",
      "text/plain": [
       "<Figure size 1080x360 with 3 Axes>"
      ]
     },
     "metadata": {
      "needs_background": "light"
     },
     "output_type": "display_data"
    }
   ],
   "source": [
    "fig, ax = plt.subplots(1, 3, figsize=(15,5), constrained_layout=True)\n",
    "sns.boxplot(x='bmi', data=df, color='r', ax=ax[0]);\n",
    "sns.boxplot(x='age', data=df, color='g', ax=ax[1]);\n",
    "sns.boxplot(x='charges', data=df, color='b', ax=ax[2]);\n",
    "fig.suptitle('Box Plot of BMI, Age and Charges', fontsize=24);\n",
    "ax[0].set_title('Box Plot of BMI');\n",
    "ax[1].set_title('Box Plot of Age');\n",
    "ax[2].set_title('Box Plot of Charges');"
   ]
  },
  {
   "cell_type": "markdown",
   "metadata": {},
   "source": [
    "From the figure above we can see that BMI have some extreme outliers, Age does not have an outliers, and Charges have a lot of extreme outliers."
   ]
  },
  {
   "cell_type": "code",
   "execution_count": 81,
   "metadata": {},
   "outputs": [],
   "source": [
    "def outliers(data):\n",
    "    q25, q75 = np.percentile(data, 25), np.percentile(data, 75)\n",
    "    iqr = q75 - q25\n",
    "    cut_off = iqr * 1.5\n",
    "    lb, ub = q25 - cut_off, q75 + cut_off\n",
    "    return len([x for x in data if x < lb or x > ub])"
   ]
  },
  {
   "cell_type": "code",
   "execution_count": 82,
   "metadata": {},
   "outputs": [
    {
     "name": "stdout",
     "output_type": "stream",
     "text": [
      "BMI have 9 outliers,\n",
      "Age have 0 outliers,\n",
      "Charges have 139 outliers\n"
     ]
    }
   ],
   "source": [
    "bmi_outliers = outliers(df.bmi)\n",
    "age_outliers = outliers(df.age)\n",
    "charges_outliers = outliers(df.charges)\n",
    "print(f'BMI have {bmi_outliers} outliers,\\nAge have {age_outliers} outliers,\\nCharges have {charges_outliers} outliers')"
   ]
  },
  {
   "cell_type": "markdown",
   "metadata": {},
   "source": [
    "# No.2 Do charges of people who smoke differ significantly from the people who don't? (Hypothesis Testing)"
   ]
  },
  {
   "cell_type": "markdown",
   "metadata": {},
   "source": [
    "## 1. We seperate the smoker and non smoker to different data frame"
   ]
  },
  {
   "cell_type": "code",
   "execution_count": 83,
   "metadata": {},
   "outputs": [],
   "source": [
    "smoker = df[df['smoker']=='yes']\n",
    "non_smoker = df[df['smoker']=='no']"
   ]
  },
  {
   "cell_type": "markdown",
   "metadata": {},
   "source": [
    "## 2. Plot the distribution of  Charges by Smoker & Non-Smoker"
   ]
  },
  {
   "cell_type": "code",
   "execution_count": 84,
   "metadata": {},
   "outputs": [
    {
     "data": {
      "image/png": "[encoded data removed]",
      "text/plain": [
       "<Figure size 1080x360 with 2 Axes>"
      ]
     },
     "metadata": {
      "needs_background": "light"
     },
     "output_type": "display_data"
    }
   ],
   "source": [
    "fig, ax = plt.subplots(1, 2, figsize=(15,5), constrained_layout=True)\n",
    "sns.kdeplot(smoker.charges,label='smoker', ax=ax[0]);\n",
    "sns.kdeplot(non_smoker.charges,label='non smoker', ax=ax[0]);\n",
    "sns.boxplot(x='smoker',y='charges',data=df, ax=ax[1]);\n",
    "fig.suptitle('Distribution of Insurance Charges for Smokers Vs Non-Smokers', fontsize=24);\n",
    "ax[0].set_title('KDE');\n",
    "ax[1].set_title('Box Plot');\n",
    "ax[0].axvline(smoker.charges.mean(),color='b');\n",
    "ax[0].axvline(non_smoker.charges.mean(),color='orange');"
   ]
  },
  {
   "cell_type": "markdown",
   "metadata": {},
   "source": [
    "From the figure above we can see that the two mean are greatly different."
   ]
  },
  {
   "cell_type": "markdown",
   "metadata": {},
   "source": [
    "## 3. Two-Sample T-Test (Two Sided) :"
   ]
  },
  {
   "cell_type": "markdown",
   "metadata": {},
   "source": [
    "### We use T-Test because it is used to determine if there is a significant difference between the means of two groups which may be related in certain features."
   ]
  },
  {
   "cell_type": "markdown",
   "metadata": {},
   "source": [
    "__Hypothesis__ :<br>\n",
    "$H_{0}$ : Mean of Smoker's Insurance Charges ($\\mu_{1}$) = Mean of Non-Smoker's Insurance Charges ($\\mu_{2}$) <br>\n",
    "$H_{1}$ : Mean of Smoker's Insurance Charges ($\\mu_{1}$) $\\neq$ Mean of Non-Smoker's Insurance Charges ($\\mu_{2}$) <br>"
   ]
  },
  {
   "cell_type": "markdown",
   "metadata": {},
   "source": [
    "We use __ttest_ind()__ function from scipy.stats package. We can use this function, if we observe two independent samples from the same or different population. In this situation the two sample come from the same population, so the population variances are equal. The we pass the argument equal_var as True"
   ]
  },
  {
   "cell_type": "code",
   "execution_count": 85,
   "metadata": {},
   "outputs": [
    {
     "name": "stdout",
     "output_type": "stream",
     "text": [
      "2 sample, 2 sided t-test pvalue:  8.271435842177219e-283 t-stat: -46.664921172723716\n",
      "\n",
      "P-value is less than significant level or 8.271435842177219e-283 < 0.05\n",
      "H0 is rejected & H1 is accepted\n",
      "The average of Smoker's Insurance Charges is not same as the average of Non-Smoker's Insurance Charges\n"
     ]
    }
   ],
   "source": [
    "a = 0.05\n",
    "stat, pvalue = stats.ttest_ind(non_smoker['charges'], smoker['charges'], equal_var = True)\n",
    "print(\"2 sample, 2 sided t-test pvalue:  {} t-stat: {}\\n\".format(pvalue,stat))\n",
    "\n",
    "if pvalue <= a:\n",
    "    print(f\"P-value is less than significant level or {pvalue} < {a}\")\n",
    "    print(\"H0 is rejected & H1 is accepted\")\n",
    "    print(\"The average of Smoker's Insurance Charges is not same as the average of Non-Smoker's Insurance Charges\")\n",
    "elif  pvalue > a:\n",
    "    print(f\"P-value is greater than significant level or {pvalue} > {a}\")\n",
    "    print(\"H0 is accepted\")\n",
    "    print(\"The average of Smoker's Insurance Charges is same as the average of Non-Smoker's Insurance Charges\")"
   ]
  }
 ],
 "metadata": {
  "kernelspec": {
   "display_name": "Python 3",
   "language": "python",
   "name": "python3"
  },
  "language_info": {
   "codemirror_mode": {
    "name": "ipython",
    "version": 3
   },
   "file_extension": ".py",
   "mimetype": "text/x-python",
   "name": "python",
   "nbconvert_exporter": "python",
   "pygments_lexer": "ipython3",
   "version": "3.7.6"
  }
 },
 "nbformat": 4,
 "nbformat_minor": 4
}
